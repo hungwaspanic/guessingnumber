{
 "cells": [
  {
   "cell_type": "code",
   "execution_count": 81,
   "metadata": {},
   "outputs": [],
   "source": [
    "import pandas as pd \n",
    "import random "
   ]
  },
  {
   "cell_type": "code",
   "execution_count": 82,
   "metadata": {},
   "outputs": [],
   "source": [
    "ori = [1,2,3,4]\n",
    "count_list = []"
   ]
  },
  {
   "cell_type": "code",
   "execution_count": 83,
   "metadata": {},
   "outputs": [
    {
     "data": {
      "text/plain": [
       "1"
      ]
     },
     "execution_count": 83,
     "metadata": {},
     "output_type": "execute_result"
    }
   ],
   "source": [
    "random.choice(ori)\n"
   ]
  },
  {
   "cell_type": "code",
   "execution_count": 154,
   "metadata": {},
   "outputs": [
    {
     "name": "stdout",
     "output_type": "stream",
     "text": [
      "[7, 'nan', 'nan', 'nan', 'nan', 'nan', 'nan']\n",
      "[2, 'nan', 'nan', 'nan', 'nan', 'nan', 'nan']\n",
      "[3, 'nan', 'nan', 'nan', 'nan', 'nan', 'nan']\n",
      "[4, 'nan', 'nan', 'nan', 'nan', 'nan', 'nan']\n",
      "[1, 'nan', 'nan', 'nan', 'nan', 'nan', 'nan']\n",
      "[1, 3, 'nan', 'nan', 'nan', 'nan', 'nan']\n",
      "[1, 4, 'nan', 'nan', 'nan', 'nan', 'nan']\n",
      "[1, 7, 'nan', 'nan', 'nan', 'nan', 'nan']\n",
      "[1, 5, 'nan', 'nan', 'nan', 'nan', 'nan']\n",
      "[1, 6, 'nan', 'nan', 'nan', 'nan', 'nan']\n",
      "[1, 2, 'nan', 'nan', 'nan', 'nan', 'nan']\n",
      "[1, 2, 4, 'nan', 'nan', 'nan', 'nan']\n",
      "[1, 2, 3, 'nan', 'nan', 'nan', 'nan']\n",
      "[1, 2, 3, 5, 'nan', 'nan', 'nan']\n",
      "[1, 2, 3, 6, 'nan', 'nan', 'nan']\n",
      "[1, 2, 3, 4, 'nan', 'nan', 'nan']\n",
      "[1, 2, 3, 4, 7, 'nan', 'nan']\n",
      "[1, 2, 3, 4, 5, 'nan', 'nan']\n",
      "[1, 2, 3, 4, 5, 7, 'nan']\n",
      "[1, 2, 3, 4, 5, 6, 'nan']\n",
      "[1, 2, 3, 4, 5, 6, 7]\n"
     ]
    }
   ],
   "source": [
    "ori = [1,2,3,4,5,6,7]\n",
    "\n",
    "count = 0\n",
    "guess = [\"nan\"] * len(ori)\n",
    "ori_horizontal = ori[:]\n",
    "ori_vertical = ori[:]\n",
    "for i in range(len(ori)):\n",
    "    if i > 0 and guess[i-1] != \"nan\":\n",
    "        ori_horizontal.remove(guess[i-1])\n",
    "        ori_vertical = ori_horizontal[:]\n",
    "\n",
    "    while ori[i] != guess[i]:\n",
    "        # ori_vertical = ori_horizontal\n",
    "        count += 1\n",
    "        # if len(ori_horizontal) > len(ori_vertical):\n",
    "        a = random.choice(ori_vertical)\n",
    "        \n",
    "        guess[i] = a\n",
    "        if guess[i] != ori[i]:\n",
    "            ori_vertical.remove(guess[i])\n",
    "        print(guess)\n",
    "        # print(ori_vertical)\n",
    "        # ori_use.remove(guess[i])"
   ]
  },
  {
   "cell_type": "code",
   "execution_count": 147,
   "metadata": {},
   "outputs": [
    {
     "data": {
      "text/plain": [
       "8"
      ]
     },
     "execution_count": 147,
     "metadata": {},
     "output_type": "execute_result"
    }
   ],
   "source": [
    "count"
   ]
  },
  {
   "cell_type": "code",
   "execution_count": null,
   "metadata": {},
   "outputs": [],
   "source": [
    "while ori != guess:\n",
    "    for i in range(len(guess)):\n",
    "        ori_use_1 = ori\n",
    "        ori_use_2 = ori\n",
    "        count = 0\n",
    "        a = random.choice(ori_use_1)\n",
    "        ori_use_1.remove(a)\n",
    "        guess[i] = a"
   ]
  }
 ],
 "metadata": {
  "kernelspec": {
   "display_name": "Python 3",
   "language": "python",
   "name": "python3"
  },
  "language_info": {
   "codemirror_mode": {
    "name": "ipython",
    "version": 3
   },
   "file_extension": ".py",
   "mimetype": "text/x-python",
   "name": "python",
   "nbconvert_exporter": "python",
   "pygments_lexer": "ipython3",
   "version": "3.11.4"
  }
 },
 "nbformat": 4,
 "nbformat_minor": 2
}
